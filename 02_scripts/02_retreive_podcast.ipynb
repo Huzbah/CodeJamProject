{
 "cells": [
  {
   "cell_type": "code",
   "execution_count": 1,
   "id": "18b07f7c",
   "metadata": {},
   "outputs": [],
   "source": [
    "from listennotes import podcast_api\n",
    "import json \n",
    "import sys\n",
    "import requests\n",
    "from io import BytesIO\n",
    "from PIL import Image\n",
    "from PyQt6.QtCore import Qt\n",
    "from PyQt6.QtWidgets import (QApplication, QCheckBox, QComboBox,  QDateEdit, QPushButton,\n",
    "    QMainWindow,\n",
    "    QVBoxLayout,\n",
    "    QWidget, QLabel)\n",
    "from PyQt6.QtGui import QIcon\n",
    "\n",
    "api_key = open(\"../01_data/private/key.txt\", \"r\").readline() # load api\n",
    "\n",
    "with open(\"../01_data/examplefile.txt\", \"rt\") as f: #load genre ids selected\n",
    "    for line in f:\n",
    "        terms= line.split(',')\n",
    "        \n",
    "#declare variable to collect queue\n",
    "json_list=[] \n",
    "queue_list=[]\n",
    "\n"
   ]
  },
  {
   "cell_type": "code",
   "execution_count": 2,
   "id": "d77df6fa",
   "metadata": {},
   "outputs": [],
   "source": [
    "#fetch best podcasts in genre\n",
    "\n",
    "def get_podcast(term):\n",
    "    client = podcast_api.Client(api_key=api_key)      \n",
    "    response = client.search(q=term, offset=5)\n",
    "    #print(response.json)\n",
    "    return response.json()\n"
   ]
  },
  {
   "cell_type": "code",
   "execution_count": 3,
   "id": "cf7eef9b",
   "metadata": {},
   "outputs": [],
   "source": [
    "#display best podcasts and select from list to prepare queue\n",
    "#merge json for recommendation during drive time\n",
    "\n",
    "def get_title_dict(response):\n",
    "    pick=5 # allows to choose for 5 pods\n",
    "    i=0\n",
    "    pod_dict={}   #for each podcast store the title and image to add to combobox\n",
    "    \n",
    "    for pod in response:\n",
    "        i=i+1\n",
    "        pod_dict[pod.get('podcast').get('title_original')]=pod\n",
    "            #response = requests.get(pod.get('image'))\n",
    "            #img = Image.open(BytesIO(response.content))\n",
    "            #img.save(\"../03_output/\"+pod.get('title')+\".png\", \"PNG\")\n",
    "        if i==pick:\n",
    "            break\n",
    "    return pod_dict\n",
    "\n",
    "#get podcasts with call to api\n",
    "response1=get_podcast(terms[0]).get('results')\n",
    "response2=get_podcast(terms[1]).get('results')\n",
    "response3=get_podcast(terms[2]).get('results')\n",
    "\n",
    "\n",
    "pod_dict1=get_title_dict(response1)\n",
    "pod_dict2=get_title_dict(response2)\n",
    "pod_dict3=get_title_dict(response3)"
   ]
  },
  {
   "cell_type": "code",
   "execution_count": 4,
   "id": "6bf0ea89",
   "metadata": {},
   "outputs": [
    {
     "ename": "AttributeError",
     "evalue": "'MainWindow' object has no attribute 'confirm'",
     "output_type": "error",
     "traceback": [
      "\u001b[1;31m---------------------------------------------------------------------------\u001b[0m",
      "\u001b[1;31mAttributeError\u001b[0m                            Traceback (most recent call last)",
      "\u001b[1;32m<ipython-input-4-b05b92202d43>\u001b[0m in \u001b[0;36m<module>\u001b[1;34m\u001b[0m\n\u001b[0;32m     66\u001b[0m             \u001b[0mqueue_list\u001b[0m\u001b[1;33m.\u001b[0m\u001b[0mappend\u001b[0m\u001b[1;33m(\u001b[0m\u001b[0ms\u001b[0m\u001b[1;33m)\u001b[0m\u001b[1;33m\u001b[0m\u001b[1;33m\u001b[0m\u001b[0m\n\u001b[0;32m     67\u001b[0m \u001b[0mapp\u001b[0m \u001b[1;33m=\u001b[0m \u001b[0mQApplication\u001b[0m\u001b[1;33m(\u001b[0m\u001b[0msys\u001b[0m\u001b[1;33m.\u001b[0m\u001b[0margv\u001b[0m\u001b[1;33m)\u001b[0m\u001b[1;33m\u001b[0m\u001b[1;33m\u001b[0m\u001b[0m\n\u001b[1;32m---> 68\u001b[1;33m \u001b[0mwindow\u001b[0m \u001b[1;33m=\u001b[0m \u001b[0mMainWindow\u001b[0m\u001b[1;33m(\u001b[0m\u001b[1;33m)\u001b[0m\u001b[1;33m\u001b[0m\u001b[1;33m\u001b[0m\u001b[0m\n\u001b[0m\u001b[0;32m     69\u001b[0m \u001b[0mwindow\u001b[0m\u001b[1;33m.\u001b[0m\u001b[0mshow\u001b[0m\u001b[1;33m(\u001b[0m\u001b[1;33m)\u001b[0m\u001b[1;33m\u001b[0m\u001b[1;33m\u001b[0m\u001b[0m\n\u001b[0;32m     70\u001b[0m \u001b[0mapp\u001b[0m\u001b[1;33m.\u001b[0m\u001b[0mexec\u001b[0m\u001b[1;33m(\u001b[0m\u001b[1;33m)\u001b[0m\u001b[1;33m\u001b[0m\u001b[1;33m\u001b[0m\u001b[0m\n",
      "\u001b[1;32m<ipython-input-4-b05b92202d43>\u001b[0m in \u001b[0;36m__init__\u001b[1;34m(self)\u001b[0m\n\u001b[0;32m     43\u001b[0m             \u001b[0mconfirm\u001b[0m \u001b[1;33m=\u001b[0m \u001b[0mQPushButton\u001b[0m\u001b[1;33m(\u001b[0m\u001b[1;33m)\u001b[0m\u001b[1;33m\u001b[0m\u001b[1;33m\u001b[0m\u001b[0m\n\u001b[0;32m     44\u001b[0m             \u001b[0mconfirm\u001b[0m\u001b[1;33m.\u001b[0m\u001b[0msetText\u001b[0m\u001b[1;33m(\u001b[0m\u001b[1;34m'Confirm Selection'\u001b[0m\u001b[1;33m)\u001b[0m\u001b[1;33m\u001b[0m\u001b[1;33m\u001b[0m\u001b[0m\n\u001b[1;32m---> 45\u001b[1;33m             \u001b[0mself\u001b[0m\u001b[1;33m.\u001b[0m\u001b[0mconfirm\u001b[0m\u001b[1;33m.\u001b[0m\u001b[0msetEnabled\u001b[0m\u001b[1;33m(\u001b[0m\u001b[1;32mFalse\u001b[0m\u001b[1;33m)\u001b[0m\u001b[1;33m\u001b[0m\u001b[1;33m\u001b[0m\u001b[0m\n\u001b[0m\u001b[0;32m     46\u001b[0m             \u001b[1;31m# confirm.setEnabled(False)\u001b[0m\u001b[1;33m\u001b[0m\u001b[1;33m\u001b[0m\u001b[1;33m\u001b[0m\u001b[0m\n\u001b[0;32m     47\u001b[0m             \u001b[0mconfirm\u001b[0m\u001b[1;33m.\u001b[0m\u001b[0mclicked\u001b[0m\u001b[1;33m.\u001b[0m\u001b[0mconnect\u001b[0m\u001b[1;33m(\u001b[0m\u001b[0mself\u001b[0m\u001b[1;33m.\u001b[0m\u001b[0mclose\u001b[0m\u001b[1;33m)\u001b[0m\u001b[1;33m\u001b[0m\u001b[1;33m\u001b[0m\u001b[0m\n",
      "\u001b[1;31mAttributeError\u001b[0m: 'MainWindow' object has no attribute 'confirm'"
     ]
    }
   ],
   "source": [
    "#display option in gui\n",
    "# create a window to take in queue suggestions\n",
    "class MainWindow(QMainWindow):\n",
    "        def __init__(self):\n",
    "            super().__init__()\n",
    "\n",
    "            self.setWindowTitle(\"Create Queue\")\n",
    "            \n",
    "            label = QLabel('Select podcasts for your queue:')\n",
    "            \n",
    "            layout = QVBoxLayout()\n",
    "        \n",
    "            combobox1= QComboBox() # intitialize a combo box\n",
    "            combobox2= QComboBox()\n",
    "            combobox3= QComboBox()\n",
    "            \n",
    "            label1 = QLabel('Select the first podcast:')\n",
    "            for pod in pod_dict1:\n",
    "                \n",
    "                icon=QIcon(\"./03_output/icon.png\")\n",
    "                combobox1.addItem(pod, icon)\n",
    "            \n",
    "            # Connect signals\n",
    "        \n",
    "            combobox1.currentTextChanged.connect(self.text_changed)\n",
    "            \n",
    "            label2 = QLabel('Select the second podcast:')\n",
    "            for pod in pod_dict2:\n",
    "                \n",
    "                icon=QIcon(\"./03_output/icon.png\")\n",
    "                combobox2.addItem(pod, icon)\n",
    "          \n",
    "            combobox2.currentTextChanged.connect(self.text_changed)\n",
    "           \n",
    "            label3 = QLabel('Select the third podcast:')\n",
    "            for pod in pod_dict3:\n",
    "                \n",
    "                icon=QIcon(\"./03_output/icon.png\")\n",
    "                combobox3.addItem(pod, icon)\n",
    "           \n",
    "            combobox3.currentTextChanged.connect(self.text_changed)\n",
    "            \n",
    "            confirm = QPushButton()\n",
    "            confirm.setText('Confirm Selection')\n",
    "            \n",
    "            confirm.clicked.connect(self.close)\n",
    "    \n",
    "            layout = QVBoxLayout()\n",
    "            layout.addWidget(label)\n",
    "            layout.addWidget(label1)\n",
    "            layout.addWidget(combobox1)\n",
    "            layout.addWidget(label2)\n",
    "            layout.addWidget(combobox2)\n",
    "            layout.addWidget(label3)\n",
    "            layout.addWidget(combobox3)\n",
    "            \n",
    "            container = QWidget()\n",
    "            container.setLayout(layout)\n",
    "            layout.addWidget(confirm)\n",
    "\n",
    "            self.setCentralWidget(container)\n",
    "            \n",
    "    \n",
    "        def text_changed(self, s):\n",
    "            queue_list.append(s)\n",
    "app = QApplication(sys.argv)\n",
    "window = MainWindow()\n",
    "window.show()\n",
    "app.exec()\n"
   ]
  },
  {
   "cell_type": "code",
   "execution_count": null,
   "id": "361ed9dd",
   "metadata": {},
   "outputs": [
    {
     "name": "stdout",
     "output_type": "stream",
     "text": [
      "['Bloomberg Businessweek', 'Negotiate Anything', 'Health Report - Full program podcast']\n"
     ]
    }
   ],
   "source": [
    "\n",
    "#print(queue_list)\n",
    "queue_dict={}\n",
    "\n",
    "queue_dict[queue_list[0]]=pod_dict1.get(queue_list[0])\n",
    "queue_dict[queue_list[1]]=pod_dict2.get(queue_list[1])\n",
    "queue_dict[queue_list[2]]=pod_dict3.get(queue_list[2])"
   ]
  },
  {
   "cell_type": "code",
   "execution_count": null,
   "id": "1733b477",
   "metadata": {},
   "outputs": [],
   "source": [
    "json_object = json.dumps(queue_dict)\n",
    "\n",
    "# Writing to file\n",
    "with open(\"../01_data/queue.json\", \"w\") as outfile:\n",
    "    outfile.write(json_object)"
   ]
  },
  {
   "cell_type": "code",
   "execution_count": null,
   "id": "6e9c57c3",
   "metadata": {},
   "outputs": [],
   "source": []
  }
 ],
 "metadata": {
  "kernelspec": {
   "display_name": "Python 3.8.8 ('base')",
   "language": "python",
   "name": "python3"
  },
  "language_info": {
   "codemirror_mode": {
    "name": "ipython",
    "version": 3
   },
   "file_extension": ".py",
   "mimetype": "text/x-python",
   "name": "python",
   "nbconvert_exporter": "python",
   "pygments_lexer": "ipython3",
   "version": "3.8.8"
  },
  "vscode": {
   "interpreter": {
    "hash": "5ceecb7da2aafc3df56a72e3d5d21f12f2307c7cf9b9b8f49c6cfc619e649209"
   }
  }
 },
 "nbformat": 4,
 "nbformat_minor": 5
}
