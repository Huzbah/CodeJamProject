{
 "cells": [
  {
   "cell_type": "code",
   "execution_count": 1,
   "id": "18b07f7c",
   "metadata": {},
   "outputs": [],
   "source": [
    "from listennotes import podcast_api\n",
    "import json \n",
    "import sys\n",
    "import requests\n",
    "from io import BytesIO\n",
    "from PIL import Image\n",
    "from PyQt6.QtCore import Qt\n",
    "from PyQt6.QtWidgets import (QApplication, QCheckBox, QComboBox,  QDateEdit, QPushButton,\n",
    "    QMainWindow,\n",
    "    QVBoxLayout,\n",
    "    QWidget, QLabel)\n",
    "from PyQt6.QtGui import QIcon\n",
    "\n",
    "api_key = open(\"../01_data/private/key.txt\", \"r\").readline() # load api\n",
    "\n",
    "with open(\"../01_data/examplefile.txt\", \"rt\") as f: #load genre ids selected\n",
    "    for line in f:\n",
    "        genre_ids= line.split(',')"
   ]
  },
  {
   "cell_type": "code",
   "execution_count": 2,
   "id": "d77df6fa",
   "metadata": {},
   "outputs": [],
   "source": [
    "#fetch best podcasts in genre\n",
    "\n",
    "def get_podcast(term):\n",
    "    client = podcast_api.Client(api_key=api_key)      \n",
    "    response = client.fetch_best_podcasts(genre_id=term, page=2, region='us')\n",
    "    #print(response.json)\n",
    "    return response.json()\n"
   ]
  },
  {
   "cell_type": "code",
   "execution_count": 3,
   "id": "f4de61ff",
   "metadata": {},
   "outputs": [],
   "source": [
    "#display best podcasts and select from list to prepare queue\n",
    "#merge json for recommendation during drive time\n",
    "\n",
    "json_list=[]\n",
    "#for term in genre_ids:\n",
    "response=get_podcast(genre_ids[0])\n",
    "    #display in gui\n",
    "\n",
    "json_list=response.get('podcasts')\n",
    "\n",
    "pod_dict={}\n",
    "pick=5 # allows to choose for 5 pods\n",
    "\n",
    "i=0\n",
    "#for each podcast store the title and image to add to combobox\n",
    "for pod in json_list:\n",
    "    i=i+1\n",
    "    pod_dict[pod.get('title')]=pod.get('image')\n",
    "    response = requests.get(pod.get('image'))\n",
    "    img = Image.open(BytesIO(response.content))\n",
    "    img.save(\"../03_output/\"+pod.get('title')+\".png\", \"PNG\")\n",
    "    if i==pick:\n",
    "        break\n"
   ]
  },
  {
   "cell_type": "code",
   "execution_count": 4,
   "id": "361ed9dd",
   "metadata": {},
   "outputs": [
    {
     "ename": "TypeError",
     "evalue": "text_changed() missing 2 required positional arguments: 'self' and 's'",
     "output_type": "error",
     "traceback": [
      "\u001b[1;31m---------------------------------------------------------------------------\u001b[0m",
      "\u001b[1;31mTypeError\u001b[0m                                 Traceback (most recent call last)",
      "\u001b[1;32m<ipython-input-4-5e255aa6b411>\u001b[0m in \u001b[0;36m<module>\u001b[1;34m\u001b[0m\n\u001b[0;32m     46\u001b[0m \u001b[0mwindow\u001b[0m\u001b[1;33m.\u001b[0m\u001b[0mshow\u001b[0m\u001b[1;33m(\u001b[0m\u001b[1;33m)\u001b[0m\u001b[1;33m\u001b[0m\u001b[1;33m\u001b[0m\u001b[0m\n\u001b[0;32m     47\u001b[0m \u001b[1;33m\u001b[0m\u001b[0m\n\u001b[1;32m---> 48\u001b[1;33m \u001b[0mprint\u001b[0m\u001b[1;33m(\u001b[0m\u001b[0mMainWindow\u001b[0m\u001b[1;33m.\u001b[0m\u001b[0mtext_changed\u001b[0m\u001b[1;33m(\u001b[0m\u001b[1;33m)\u001b[0m\u001b[1;33m)\u001b[0m\u001b[1;33m\u001b[0m\u001b[1;33m\u001b[0m\u001b[0m\n\u001b[0m\u001b[0;32m     49\u001b[0m \u001b[1;33m\u001b[0m\u001b[0m\n\u001b[0;32m     50\u001b[0m \u001b[0mapp\u001b[0m\u001b[1;33m.\u001b[0m\u001b[0mexec\u001b[0m\u001b[1;33m(\u001b[0m\u001b[1;33m)\u001b[0m\u001b[1;33m\u001b[0m\u001b[1;33m\u001b[0m\u001b[0m\n",
      "\u001b[1;31mTypeError\u001b[0m: text_changed() missing 2 required positional arguments: 'self' and 's'"
     ]
    },
    {
     "ename": "",
     "evalue": "",
     "output_type": "error",
     "traceback": [
      "\u001b[1;31mThe Kernel crashed while executing code in the the current cell or a previous cell. Please review the code in the cell(s) to identify a possible cause of the failure. Click <a href='https://aka.ms/vscodeJupyterKernelCrash'>here</a> for more info. View Jupyter <a href='command:jupyter.viewOutput'>log</a> for further details."
     ]
    }
   ],
   "source": [
    "\n",
    "# create a window to take in queue suggestions\n",
    "class MainWindow(QMainWindow):\n",
    "    def __init__(self):\n",
    "        super().__init__()\n",
    "\n",
    "        self.setWindowTitle(\"Create Queue\")\n",
    "        \n",
    "        label = QLabel('Select a podcast for your queue:')\n",
    "        \n",
    "        layout = QVBoxLayout()\n",
    "    \n",
    "        combobox= QComboBox() # intitialize a combo box\n",
    "        \n",
    "        for pod in pod_dict:\n",
    "            \n",
    "            #icon=QIcon(\"../03_output/\"+pod+\".png\")\n",
    "            combobox.addItem(pod)\n",
    "        \n",
    "         # Connect signals\n",
    "       \n",
    "        combobox.currentTextChanged.connect(self.text_changed)\n",
    "        \n",
    "        confirm = QPushButton()\n",
    "        confirm.setText('Confirm Selection')\n",
    "        # confirm.setEnabled(False)\n",
    "        confirm.clicked.connect(self.close)\n",
    "  \n",
    "        layout = QVBoxLayout()\n",
    "        layout.addWidget(label)\n",
    "        layout.addWidget(combobox)\n",
    "        \n",
    "        container = QWidget()\n",
    "        container.setLayout(layout)\n",
    "        layout.addWidget(confirm)\n",
    "\n",
    "        self.setCentralWidget(container)\n",
    "        \n",
    "    def text_changed(self, s):\n",
    "        return s\n",
    "\n",
    "    def current_text_changed(self, s):\n",
    "        return s\n",
    "\n",
    "app = QApplication(sys.argv)\n",
    "window = MainWindow()\n",
    "window.show()\n",
    "\n",
    "\n",
    "app.exec()"
   ]
  },
  {
   "cell_type": "code",
   "execution_count": null,
   "id": "6e9c57c3",
   "metadata": {},
   "outputs": [],
   "source": []
  }
 ],
 "metadata": {
  "kernelspec": {
   "display_name": "Python 3.8.8 ('base')",
   "language": "python",
   "name": "python3"
  },
  "language_info": {
   "codemirror_mode": {
    "name": "ipython",
    "version": 3
   },
   "file_extension": ".py",
   "mimetype": "text/x-python",
   "name": "python",
   "nbconvert_exporter": "python",
   "pygments_lexer": "ipython3",
   "version": "3.8.8"
  },
  "vscode": {
   "interpreter": {
    "hash": "5ceecb7da2aafc3df56a72e3d5d21f12f2307c7cf9b9b8f49c6cfc619e649209"
   }
  }
 },
 "nbformat": 4,
 "nbformat_minor": 5
}
