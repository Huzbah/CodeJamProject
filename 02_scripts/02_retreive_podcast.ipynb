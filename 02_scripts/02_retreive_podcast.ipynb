{
 "cells": [
  {
   "cell_type": "code",
   "execution_count": 4,
   "id": "18b07f7c",
   "metadata": {},
   "outputs": [],
   "source": [
    "from listennotes import podcast_api\n",
    "\n",
    "f = open(\"../01_data/examplefile.txt\", \"r\")\n",
    "searchterms = f.readline()\n"
   ]
  },
  {
   "cell_type": "code",
   "execution_count": 14,
   "id": "d77df6fa",
   "metadata": {},
   "outputs": [],
   "source": [
    "def get_podcast(term):\n",
    "    api_key = '8421b193f3d1416fab2f5dbe404bd90c'\n",
    "\n",
    "    client = podcast_api.Client(api_key=api_key)\n",
    "\n",
    "    response = client.search(q=term, offset=29)\n",
    "    \n",
    "    return response\n"
   ]
  },
  {
   "cell_type": "code",
   "execution_count": 15,
   "id": "f4de61ff",
   "metadata": {},
   "outputs": [],
   "source": [
    "term1=get_podcast(searchterms[0])\n",
    "#term2=get_podcast(searchterms[1])\n",
    "#term3=get_podcast(searchterms[2])"
   ]
  },
  {
   "cell_type": "code",
   "execution_count": null,
   "id": "6e9c57c3",
   "metadata": {},
   "outputs": [],
   "source": []
  }
 ],
 "metadata": {
  "kernelspec": {
   "display_name": "Python 3.9.7 64-bit",
   "language": "python",
   "name": "python3"
  },
  "language_info": {
   "codemirror_mode": {
    "name": "ipython",
    "version": 3
   },
   "file_extension": ".py",
   "mimetype": "text/x-python",
   "name": "python",
   "nbconvert_exporter": "python",
   "pygments_lexer": "ipython3",
   "version": "3.9.7"
  },
  "vscode": {
   "interpreter": {
    "hash": "aee8b7b246df8f9039afb4144a1f6fd8d2ca17a180786b69acc140d282b71a49"
   }
  }
 },
 "nbformat": 4,
 "nbformat_minor": 5
}
